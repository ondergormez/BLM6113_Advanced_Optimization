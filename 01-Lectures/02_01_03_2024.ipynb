{
 "cells": [
  {
   "cell_type": "markdown",
   "metadata": {},
   "source": [
    "# 2. Week - 1 March 2024 Friday"
   ]
  },
  {
   "cell_type": "markdown",
   "metadata": {},
   "source": [
    "\n",
    "* Lineer cebir konularına bakacağız.\n",
    "\n",
    "# Vektör ve Matris İşlemleri\n",
    "* Vektörler küçük harfle temsil edilir.\n",
    "* Sütun sektör gösterimi için a ile temsil ediliriken, satır vektör a^T şeklinde ifade edilir.\n",
    "* Aksi belirtilmedikçe vektörler sütun vektördür diyebiliriz.\n",
    "* Matris ler büyük harfle temsil edilir.\n",
    "\n",
    "* Normal parantez ve süslü parantez farkı;\n",
    "    * f(t) -> continuous,\n",
    "    * f[n] -> discrete,\n",
    "    bir fonksiyonu temsil eder"
   ]
  }
 ],
 "metadata": {
  "language_info": {
   "name": "python"
  }
 },
 "nbformat": 4,
 "nbformat_minor": 2
}
