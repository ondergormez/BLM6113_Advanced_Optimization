{
 "cells": [
  {
   "cell_type": "markdown",
   "metadata": {},
   "source": [
    "# 9. Week - 19 April 2024 Friday\n",
    "\n",
    "Vize haftası olduğu için ders işlenmemiştir."
   ]
  },
  {
   "cell_type": "markdown",
   "metadata": {},
   "source": [
    "\n",
    "# Vize Soruları (100 puan)\n",
    "\n",
    "\n",
    "## Soru 1 (30 puan)\n",
    "\n",
    "2. dereceden bir denklem verildi  \n",
    "A) Gradient ini ve heissen matrisini i bul 10 puan  \n",
    "B) Denklemi quadratic formda yazın 10 puan  \n",
    "C) Minimum olduğu bir nokta var mı gibi bir şeydi varsa bulun yorumlayın 10 puan\n",
    "\n",
    "## Soru 2 (20 puan)\n",
    "2. derece denklemi  \n",
    "A) Newton-Rapson ile  \n",
    "B) Bisection ile   \n",
    "çöz karşılaştır gibi bir soruydu\n",
    "\n",
    "\n",
    "\n",
    "## Soru 3 (30 puan)\n",
    "2. dereceden bir denklemi  \n",
    "A) Klasik Newton,  \n",
    "B) Gradient Descent,  \n",
    "C) ve Conjuge Gradient Descent ile  \n",
    "2 iterasyonda çöz diyordu. Sonuçlar karşılaştırılarak yorumlanmalıydı. Hangisi iyi, avantaj, dezavantaj?\n",
    "\n",
    "* 0.1 step size ile ilerletiyorduk\n",
    "* Grandyent (1. Türev) ve 2. Türev yani Hessien hesaplayıp ilerletiyorduk\n",
    "\n",
    "## Soru 4 (15 puan)\n",
    "Newton, Gradient Descent ile Levenberg Marquet farkları neydi LM i ayrıştıran nedir diye soruyordu?  \n",
    "Sözel olarak yorumlanacak. Hangisi iyi, avantaj, dezavantaj?"
   ]
  }
 ],
 "metadata": {
  "language_info": {
   "name": "python"
  }
 },
 "nbformat": 4,
 "nbformat_minor": 2
}
