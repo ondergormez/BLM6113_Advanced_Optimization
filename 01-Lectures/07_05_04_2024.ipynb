{
 "cells": [
  {
   "cell_type": "markdown",
   "metadata": {},
   "source": [
    "# 7. Week - 5 April 2024 Friday"
   ]
  },
  {
   "cell_type": "markdown",
   "metadata": {},
   "source": [
    "# Vize\n",
    "\n",
    "* Vize sınavında netwon yöntemi ile minimum u bulma sorusu çıkacak.\n",
    "    * 2 dereceden bir denklem verilir. Bu denklemin  newton ile çözülmesi istenir.\n",
    "    * Heissen matrisinin tersini almak gerekecek. Bunun için lineer cebir deki matris tersini almadan yararlanılacak."
   ]
  }
 ],
 "metadata": {
  "language_info": {
   "name": "python"
  }
 },
 "nbformat": 4,
 "nbformat_minor": 2
}
