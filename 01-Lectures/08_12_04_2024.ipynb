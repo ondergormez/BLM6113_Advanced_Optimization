{
 "cells": [
  {
   "cell_type": "markdown",
   "metadata": {},
   "source": [
    "# 8. Week - 12 April 2024 Friday\n",
    "\n",
    "Ramazan bayramı haftası olduğu için ders işlenmemiştir."
   ]
  }
 ],
 "metadata": {
  "language_info": {
   "name": "python"
  }
 },
 "nbformat": 4,
 "nbformat_minor": 2
}
