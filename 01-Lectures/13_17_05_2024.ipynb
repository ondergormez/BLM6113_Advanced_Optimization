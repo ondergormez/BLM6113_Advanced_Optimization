{
 "cells": [
  {
   "cell_type": "markdown",
   "metadata": {},
   "source": [
    "# 13. Week - 17 May 2024 Friday"
   ]
  },
  {
   "cell_type": "markdown",
   "metadata": {},
   "source": [
    "# Ödev Notları\n",
    "* Ödevde çoğu kişide conjugate gradient en iyi yöntem olarak çıkmış\n",
    "* Bazı kişilerde Levenberg Marquate çıkmış\n",
    "* Hepsinde adım sayısını azaltmak gibi bir gayemiz yok. Kaç adımda bittiğini görmemiz yeterli\n",
    "* CVXPY optimization ın en uygun noktayı bulması için regularization parametresinin verilmesi gerekiyor. Verilmediğinde en uygun koşulu bulamıyor.\n",
    "\n",
    "Yeni verilecek ödev kısıtlı optimizasyon (constrained optimization) ile ilgili olacak.\n",
    "* Bugün işleyeceğimiz konu."
   ]
  },
  {
   "cell_type": "markdown",
   "metadata": {},
   "source": [
    "# Unconstrained vs Constrained Optimization\n",
    "\n",
    "Unconstrained: Herhangi bir kısıtlama yok. Sadece verilen özelliği minimize etmeye çalışıyoruz.\n",
    "* Vizeden önce işlediğimiz konularda olduğu gibi sadece 1 değişkeni minimize etmeye çalışyoruz.\n",
    "\n",
    "Constrained: Belirli koşullar altında (x < 5 iken minimize y gibi) minimizasyon yapmaya çalışıyoruz."
   ]
  }
 ],
 "metadata": {
  "language_info": {
   "name": "python"
  }
 },
 "nbformat": 4,
 "nbformat_minor": 2
}
