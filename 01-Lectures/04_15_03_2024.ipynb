{
 "cells": [
  {
   "cell_type": "markdown",
   "metadata": {},
   "source": [
    "# 4. Week - 15 March 2024 Friday"
   ]
  },
  {
   "cell_type": "markdown",
   "metadata": {},
   "source": [
    "İşyerinde sunumum olduğu için derse katılamadım."
   ]
  },
  {
   "cell_type": "markdown",
   "metadata": {},
   "source": [
    "# Ödev\n",
    "\n",
    "* Bu hafta işlenen ders içeriğinden ödev verildi.\n",
    "  * Ridge regresyon yöntemi\n",
    "  * Lasso regresyon yöntemi\n",
    "  * En küçük kareler yöntemi\n",
    "\n",
    "ile ilgili bir ödev.\n",
    "\n",
    "[Boston housing dataset](https://www.kaggle.com/datasets/altavish/boston-housing-dataset) veri seti üzerinde bu yöntemleri uygulayarak sonuçları karşılaştırınız.  \n",
    "[CVXPY kütüphanesini](https://www.cvxpy.org/examples/) kullanınız."
   ]
  }
 ],
 "metadata": {
  "language_info": {
   "name": "python"
  }
 },
 "nbformat": 4,
 "nbformat_minor": 2
}
