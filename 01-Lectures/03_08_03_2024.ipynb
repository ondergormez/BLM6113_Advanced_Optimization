{
 "cells": [
  {
   "cell_type": "markdown",
   "metadata": {},
   "source": [
    "# 3. Week - 8 March 2024 Friday"
   ]
  },
  {
   "cell_type": "markdown",
   "metadata": {},
   "source": [
    "\n",
    " matrix 𝐴=[0223]\n",
    ".\n",
    "\n"
   ]
  },
  {
   "cell_type": "code",
   "execution_count": 2,
   "metadata": {},
   "outputs": [
    {
     "name": "stdout",
     "output_type": "stream",
     "text": [
      "E-value: [-1.  4.]\n",
      "E-vector [[-0.89442719 -0.4472136 ]\n",
      " [ 0.4472136  -0.89442719]]\n"
     ]
    }
   ],
   "source": [
    "import numpy as np\n",
    "from numpy.linalg import eig\n",
    "\n",
    "a = np.array([[0, 2],\n",
    "              [2, 3]])\n",
    "w, v = eig(a)\n",
    "print('E-value:', w)\n",
    "print('E-vector', v)"
   ]
  },
  {
   "cell_type": "markdown",
   "metadata": {},
   "source": [
    "gradient:  aslında dümdüz türev demektir."
   ]
  },
  {
   "cell_type": "markdown",
   "metadata": {},
   "source": [
    "# Symbolic Differentiation\n",
    "\n",
    "https://python.plainenglish.io/how-is-symbolic-differentiation-done-in-python-using-sympy-6484554f25b0\n",
    "\n"
   ]
  },
  {
   "cell_type": "code",
   "execution_count": 4,
   "metadata": {},
   "outputs": [
    {
     "data": {
      "text/latex": [
       "$\\displaystyle e^{\\frac{t}{2}} \\sin^{2}{\\left(\\frac{t}{3} \\right)}$"
      ],
      "text/plain": [
       "exp(t/2)*sin(t/3)**2"
      ]
     },
     "execution_count": 4,
     "metadata": {},
     "output_type": "execute_result"
    }
   ],
   "source": [
    "\n",
    "# import library\n",
    "import sympy as sp\n",
    "\n",
    "# define symbolic variable\n",
    "t = sp.symbols('t')\n",
    "\n",
    "# define symbolic equation\n",
    "eq = sp.exp(t / 2) * (sp.sin(t / 3) ** 2)\n",
    "eq"
   ]
  },
  {
   "cell_type": "code",
   "execution_count": 5,
   "metadata": {},
   "outputs": [
    {
     "data": {
      "text/latex": [
       "$\\displaystyle \\frac{\\left(- 223 \\sin^{2}{\\left(\\frac{t}{3} \\right)} - 336 \\sin{\\left(\\frac{t}{3} \\right)} \\cos{\\left(\\frac{t}{3} \\right)} + 304 \\cos^{2}{\\left(\\frac{t}{3} \\right)}\\right) e^{\\frac{t}{2}}}{1296}$"
      ],
      "text/plain": [
       "(-223*sin(t/3)**2 - 336*sin(t/3)*cos(t/3) + 304*cos(t/3)**2)*exp(t/2)/1296"
      ]
     },
     "execution_count": 5,
     "metadata": {},
     "output_type": "execute_result"
    }
   ],
   "source": [
    "# find fourth order derivative\n",
    "fourth_order_derivative = eq.diff(t, t, t, t)\n",
    "fourth_order_derivative"
   ]
  },
  {
   "cell_type": "markdown",
   "metadata": {},
   "source": [
    "# Some Rules About Derivatives\n",
    "\n",
    "* Matrix Cookbook [Petersen et al, 2008]: matrix lerle ilgili güzel bir kaynak\n",
    "\n",
    "y  dy/dx\n",
    "\n",
    "Ax  A^T\n",
    "\n",
    "x^TA  A\n",
    "x^Tx 2x\n",
    "x^TAx Ax + A^Tx\n",
    "\n",
    "\n",
    "TODO: Yukarıdaki isimli slayt 18. sayfada olması lazım. Bundan sonra gelen bilgileri gözden geçir ve hesaplarını matematiksel olarak yap."
   ]
  }
 ],
 "metadata": {
  "kernelspec": {
   "display_name": "Python 3",
   "language": "python",
   "name": "python3"
  },
  "language_info": {
   "codemirror_mode": {
    "name": "ipython",
    "version": 3
   },
   "file_extension": ".py",
   "mimetype": "text/x-python",
   "name": "python",
   "nbconvert_exporter": "python",
   "pygments_lexer": "ipython3",
   "version": "3.9.6"
  }
 },
 "nbformat": 4,
 "nbformat_minor": 2
}
