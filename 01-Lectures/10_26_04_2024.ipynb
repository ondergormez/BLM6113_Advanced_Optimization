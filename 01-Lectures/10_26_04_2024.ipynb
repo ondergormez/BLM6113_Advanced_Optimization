{
 "cells": [
  {
   "cell_type": "markdown",
   "metadata": {},
   "source": [
    "# 10. Week - 26 April 2024 Friday"
   ]
  },
  {
   "cell_type": "markdown",
   "metadata": {},
   "source": [
    "Buraya herhangi bir not alınmamıştır.  \n",
    "Kağıt üzerindeki notlara bakılabilir."
   ]
  }
 ],
 "metadata": {
  "language_info": {
   "name": "python"
  }
 },
 "nbformat": 4,
 "nbformat_minor": 2
}
